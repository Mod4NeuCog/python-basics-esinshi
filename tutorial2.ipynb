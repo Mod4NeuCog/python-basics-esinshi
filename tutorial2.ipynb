{
 "cells": [
  {
   "cell_type": "markdown",
   "metadata": {},
   "source": [
    "#### Esin Bahar Akcay\n",
    "#### 29 September 2023\n",
    "##### Tutorial 2"
   ]
  },
  {
   "cell_type": "markdown",
   "metadata": {},
   "source": [
    "### Exercise 1: algo/code of 1 IO neuron\n",
    "\n",
    "Write on the notebook the algorithm of the neuron implemented in exercise 6 of Lecture 1 \n",
    "using Main and Functions as described in previous slides\n",
    "\n",
    "Add a parameter to previous algo/code"
   ]
  },
  {
   "cell_type": "markdown",
   "metadata": {},
   "source": [
    "# Algorithm for Exercise 6 of tutorial 1\n",
    "```\n",
    "Input: Input1: method\n",
    "Input: Input2: input1\n",
    "Output: Spike \n",
    "\n",
    "Init\n",
    "    Float Vmembrane <- Vrest mV\n",
    "    Integer spike <-0\n",
    "    \n",
    "Function Method1(Vmembrane):\n",
    "\n",
    "   spike = Input1\n",
    "   Vmembrane <- Vmembrane + spike\n",
    "   \n",
    "   return Vmembrane\n",
    "    \n",
    "Function Method2(Vmembrane):\n",
    "\n",
    "   spike = Input\n",
    "   Vmembrane <- Vmembrane + (spike*weight)\n",
    "   \n",
    "   return Vmembrane\n",
    "\n",
    "Function Simulate(method, Input):\n",
    "    if method == 1 then\n",
    "        Vmembrane = Method1(V_membrane)\n",
    "    else\n",
    "        Vmembrane = Method1(V_membrane, Input)\n",
    "        \n",
    "    return Vmembrane\n",
    "\n",
    "Main(argv):  \n",
    "    Vmembrane = Simulate(method_type)\n",
    "    print(Vmembrane)\n",
    "```"
   ]
  },
  {
   "cell_type": "markdown",
   "metadata": {},
   "source": [
    "### Exercise 2: algo/code of 1 IO neuron\n",
    "\n",
    "Write the algorithm of the neuron of lecture 1 as a DTSS\n",
    "model (with two functions for state transitions and outputs)\n",
    "Add a While loop to the simulator part of a DTSS model."
   ]
  },
  {
   "cell_type": "markdown",
   "metadata": {},
   "source": [
    "# Algorithm for Exercise 2\n",
    "```\n",
    "Input: List inputSpikeList = [0,5,5,0,0,0,0,5]\n",
    "Output:  \n",
    "\n",
    "Init\n",
    "    Float Vrest <- -75 mV\n",
    "    Float Vthreshold <- -65 mV\n",
    "    Float Vmembrane <- Vrest mV\n",
    "    Float c <- 0.5\n",
    "    Float t_end = 3.5\n",
    "    \n",
    "Function delta(input, Vmembrane):\n",
    "\n",
    "   Vmembrane <- Vmembrane + input\n",
    "   return Vmembrane\n",
    "    \n",
    "Function lambda():\n",
    "    if Vmembrane >= Vthreshold then\n",
    "        spike=1\n",
    "        Vmembrane <- Vrest\n",
    "    else\n",
    "        spike=0\n",
    "   \n",
    "   print(spike)\n",
    "\n",
    "Function Simulate(inputSpikeList, t_end, c):\n",
    "    t <- 0\n",
    "    n <- 0\n",
    "    \n",
    "    while t< t_end do\n",
    "        lambda(Vmembrane)\n",
    "        Vmembrane = delta(inputSpikeList[n], Vmembrane)\n",
    "        n=n+1\n",
    "        t=n*c\n",
    "        \n",
    "Main(argv):  \n",
    "    Vmembrane = Simulate(inputSpikeList, t_end, c)\n",
    "    print(Vmembrane)\n",
    "```"
   ]
  },
  {
   "cell_type": "markdown",
   "metadata": {},
   "source": [
    "### Exercise 3\n",
    "\n",
    "Replace simulator While loop by a For loop of a DTSS model.\n",
    "\n",
    "for(n=0; t< t_end; n++)\n",
    "    lambda(Vmembrane)\n",
    "    Vmembrane = delta(inputSpikeList[n], Vmembrane)\n",
    "    t=n*c\n",
    "\n"
   ]
  }
 ],
 "metadata": {
  "kernelspec": {
   "display_name": "Python 3 (ipykernel)",
   "language": "python",
   "name": "python3"
  },
  "language_info": {
   "codemirror_mode": {
    "name": "ipython",
    "version": 3
   },
   "file_extension": ".py",
   "mimetype": "text/x-python",
   "name": "python",
   "nbconvert_exporter": "python",
   "pygments_lexer": "ipython3",
   "version": "3.9.7"
  }
 },
 "nbformat": 4,
 "nbformat_minor": 4
}
