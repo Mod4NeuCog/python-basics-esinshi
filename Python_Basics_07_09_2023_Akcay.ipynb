{
 "cells": [
  {
   "cell_type": "markdown",
   "metadata": {},
   "source": [
    "### Basics of Programming\n",
    "#### 07 September 2023\n",
    "\n",
    "#### Esin Bahar Akcay"
   ]
  },
  {
   "cell_type": "code",
   "execution_count": 1,
   "metadata": {},
   "outputs": [
    {
     "name": "stdout",
     "output_type": "stream",
     "text": [
      "[1, 3, 2, 7, 9, 4]\n",
      "['red', 'green', 'blue']\n",
      "1\n",
      "[10, 3, 2, 7, 9, 4]\n",
      "[10, 3, 2, 7, 9, 4, 100]\n"
     ]
    }
   ],
   "source": [
    "# Lists\n",
    "\n",
    "numbers = [1,3,2,7,9,4]\n",
    "colors = ['red', 'green', 'blue']\n",
    "\n",
    "print(numbers)\n",
    "print(colors)\n",
    "\n",
    "print(numbers[0])\n",
    "\n",
    "numbers[0] = 10\n",
    "print(numbers)\n",
    "\n",
    "numbers.append(100)\n",
    "print(numbers)"
   ]
  },
  {
   "cell_type": "code",
   "execution_count": 2,
   "metadata": {},
   "outputs": [
    {
     "name": "stdout",
     "output_type": "stream",
     "text": [
      "3\n",
      "apple\n",
      "banana\n",
      "cherry\n",
      "apple\n",
      "banana\n",
      "cherry\n"
     ]
    }
   ],
   "source": [
    "thislist=[\"apple\",\"banana\",\"cherry\"]\n",
    "print(len(thislist))\n",
    "\n",
    "for x in thislist:\n",
    "    print(x)\n",
    "    \n",
    "for i in range(len(thislist)):\n",
    "    print(thislist[i])"
   ]
  },
  {
   "cell_type": "code",
   "execution_count": 3,
   "metadata": {},
   "outputs": [
    {
     "name": "stdout",
     "output_type": "stream",
     "text": [
      "['a', 1, 'b', 2, 'c', 3]\n"
     ]
    }
   ],
   "source": [
    "# Exercise 2 Lists\n",
    "\n",
    "\n",
    "letters = ['a', 'b', 'c']\n",
    "numbers = [1, 2, 3]\n",
    "\n",
    "\n",
    "def func1(list_letter, list_number):\n",
    "    newList = []\n",
    "    length_letter = len(list_letter) \n",
    "    for i in range(length_letter):\n",
    "        newList.append(list_letter[i])\n",
    "        newList.append(list_number[i])\n",
    "    return newList\n",
    "\n",
    "\n",
    "print(func1(letters, numbers))"
   ]
  },
  {
   "cell_type": "code",
   "execution_count": 4,
   "metadata": {},
   "outputs": [
    {
     "name": "stdout",
     "output_type": "stream",
     "text": [
      "8.0\n"
     ]
    }
   ],
   "source": [
    "# Importing Packages\n",
    "\n",
    "import math\n",
    "\n",
    "x = math.sqrt(64)\n",
    "\n",
    "print(x)"
   ]
  },
  {
   "cell_type": "code",
   "execution_count": 5,
   "metadata": {},
   "outputs": [
    {
     "name": "stdout",
     "output_type": "stream",
     "text": [
      "3.141592653589793\n"
     ]
    }
   ],
   "source": [
    "x = math.pi\n",
    "\n",
    "print(x)"
   ]
  },
  {
   "cell_type": "code",
   "execution_count": 6,
   "metadata": {},
   "outputs": [
    {
     "name": "stdout",
     "output_type": "stream",
     "text": [
      "200\n",
      "300\n"
     ]
    }
   ],
   "source": [
    "# Scope\n",
    "\n",
    "y = 300\n",
    "def myFunc():\n",
    "    y= 200\n",
    "    print(y)\n",
    "    \n",
    "myFunc()\n",
    "\n",
    "print(y)"
   ]
  },
  {
   "cell_type": "code",
   "execution_count": 7,
   "metadata": {},
   "outputs": [
    {
     "name": "stdout",
     "output_type": "stream",
     "text": [
      "llo\n"
     ]
    }
   ],
   "source": [
    "# Slicing\n",
    "\n",
    "b = \"Hello World!\"\n",
    "print(b[2:5])"
   ]
  },
  {
   "cell_type": "code",
   "execution_count": 8,
   "metadata": {},
   "outputs": [
    {
     "name": "stdout",
     "output_type": "stream",
     "text": [
      "Yes, 'free' is present.\n"
     ]
    }
   ],
   "source": [
    "txt = \"The best things in life are free!\"\n",
    "\n",
    "if \"free\" in txt:\n",
    "    print(\"Yes, 'free' is present.\")"
   ]
  },
  {
   "cell_type": "code",
   "execution_count": 9,
   "metadata": {},
   "outputs": [
    {
     "name": "stdout",
     "output_type": "stream",
     "text": [
      "HELLO WORLD!\n",
      "hello world!\n",
      "Jello World!\n"
     ]
    }
   ],
   "source": [
    "a = \"Hello World!\"\n",
    "print(a.upper())\n",
    "print(a.lower())\n",
    "print(a.replace(\"H\", \"J\"))"
   ]
  },
  {
   "cell_type": "code",
   "execution_count": 10,
   "metadata": {},
   "outputs": [
    {
     "name": "stdout",
     "output_type": "stream",
     "text": [
      "['Hello', 'World', 'X', '1']\n"
     ]
    }
   ],
   "source": [
    "# Split\n",
    "\n",
    "a = \"Hello-World-X-1\"\n",
    "print(a.split(\"-\"))"
   ]
  },
  {
   "cell_type": "code",
   "execution_count": 11,
   "metadata": {},
   "outputs": [
    {
     "name": "stdout",
     "output_type": "stream",
     "text": [
      "HelloWorld\n",
      "Hello World\n"
     ]
    }
   ],
   "source": [
    "# String Concatenate\n",
    "\n",
    "a = \"Hello\"\n",
    "b= \"World\"\n",
    "\n",
    "c = a+b\n",
    "print(c)\n",
    "\n",
    "d = \" \"\n",
    "\n",
    "print(a+d+b)"
   ]
  },
  {
   "cell_type": "code",
   "execution_count": 12,
   "metadata": {},
   "outputs": [
    {
     "name": "stdout",
     "output_type": "stream",
     "text": [
      "[0, 0, 0, 0, 0]\n"
     ]
    }
   ],
   "source": [
    "newlist = [0]*5\n",
    "print(newlist)"
   ]
  },
  {
   "cell_type": "code",
   "execution_count": 13,
   "metadata": {},
   "outputs": [
    {
     "name": "stdout",
     "output_type": "stream",
     "text": [
      "Input a string to be reversed:practice python coding basics\n",
      "basics coding python practice \n"
     ]
    }
   ],
   "source": [
    "# Exercise 3 reverse the words\n",
    "\n",
    "str = input(\"Input a string to be reversed:\")\n",
    "\n",
    "li = []\n",
    "reverse = []\n",
    "text = \"\"\n",
    "li = str.split(\" \")\n",
    "length = len(li)\n",
    "\n",
    "for i in range(length):\n",
    "    reverse.append(li[-(i+1)])\n",
    "    text += reverse[i] + \" \"\n",
    "    \n",
    "print(text)"
   ]
  },
  {
   "cell_type": "code",
   "execution_count": 14,
   "metadata": {},
   "outputs": [
    {
     "name": "stdout",
     "output_type": "stream",
     "text": [
      "input a string:practicepythonbasics\n",
      "['p', 'r', 'a', 'c', 't', 'i', 'e', 'y', 'h', 'o', 'n', 'b', 's']\n",
      "13\n"
     ]
    }
   ],
   "source": [
    "# Exercise 4 Count the number of unique characters in a string\n",
    "\n",
    "string = input(\"input a string:\")\n",
    "count_list = []\n",
    "cnt = 0\n",
    "\n",
    "for i in range(len(string)):\n",
    "    \n",
    "    if string[i] not in count_list:\n",
    "        count_list.append(string[i])\n",
    "        cnt += 1\n",
    "\n",
    "print(count_list)\n",
    "print(cnt)"
   ]
  },
  {
   "cell_type": "code",
   "execution_count": 15,
   "metadata": {},
   "outputs": [
    {
     "name": "stdout",
     "output_type": "stream",
     "text": [
      "The lists are identical\n"
     ]
    }
   ],
   "source": [
    "# Check if two lists are identical\n",
    "\n",
    "list1 = [1, 2, 3, 4]\n",
    "list2 = [1, 2, 3, 4]\n",
    "\n",
    "if list1 == list2:\n",
    "    print(\"The lists are identical\")\n",
    "else:\n",
    "    print(\"The lists are not identical\")"
   ]
  },
  {
   "cell_type": "code",
   "execution_count": null,
   "metadata": {},
   "outputs": [],
   "source": []
  }
 ],
 "metadata": {
  "kernelspec": {
   "display_name": "Python 3 (ipykernel)",
   "language": "python",
   "name": "python3"
  },
  "language_info": {
   "codemirror_mode": {
    "name": "ipython",
    "version": 3
   },
   "file_extension": ".py",
   "mimetype": "text/x-python",
   "name": "python",
   "nbconvert_exporter": "python",
   "pygments_lexer": "ipython3",
   "version": "3.9.7"
  }
 },
 "nbformat": 4,
 "nbformat_minor": 4
}
