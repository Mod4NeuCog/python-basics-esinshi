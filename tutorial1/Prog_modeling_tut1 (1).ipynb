{
 "cells": [
  {
   "cell_type": "markdown",
   "metadata": {},
   "source": [
    "Esin Bahar Akcay\n",
    "15 September 2023"
   ]
  },
  {
   "cell_type": "markdown",
   "metadata": {},
   "source": [
    "### Exercise 1: code 1 variable for 1 neuron"
   ]
  },
  {
   "cell_type": "code",
   "execution_count": 16,
   "metadata": {},
   "outputs": [
    {
     "name": "stdout",
     "output_type": "stream",
     "text": [
      "56\n",
      "-19.0\n"
     ]
    }
   ],
   "source": [
    "import sys\n",
    "\n",
    "def main():\n",
    "    \n",
    "    # Membrane Potential \n",
    "    V_membrane = float(-75)\n",
    "    \n",
    "    # Input Spike\n",
    "    spike = input()\n",
    "    Inputspike = int(spike)\n",
    "    \n",
    "    # Calculate the new membrane potential\n",
    "    V_membrane += Inputspike\n",
    "    \n",
    "    print(V_membrane)\n",
    "    \n",
    "if __name__ == '__main__':\n",
    "    main()\n"
   ]
  },
  {
   "cell_type": "markdown",
   "metadata": {},
   "source": [
    "### Exercise 2: variable types"
   ]
  },
  {
   "cell_type": "code",
   "execution_count": 1,
   "metadata": {},
   "outputs": [
    {
     "name": "stdout",
     "output_type": "stream",
     "text": [
      "<class 'int'>\n",
      "<class 'float'>\n",
      "34\n"
     ]
    }
   ],
   "source": [
    "import sys\n",
    "\n",
    "def main():\n",
    "    \n",
    "    # Membrane Potential \n",
    "    V_membrane = 1\n",
    "    \n",
    "    # there is no debugging mode icon showing on the topright even though I am using ipykernel\n",
    "    print(type(V_membrane))\n",
    "    \n",
    "    print(type(V_membrane*0.7))\n",
    "\n",
    "    # Input Spike\n",
    "    spike = input()\n",
    "    Inputspike = int(spike)\n",
    "    \n",
    "    # Calculate the new membrane potential\n",
    "    V_membrane += Inputspike\n",
    "    \n",
    "#     print(V_membrane)\n",
    "    \n",
    "if __name__ == '__main__':\n",
    "    main()\n"
   ]
  },
  {
   "cell_type": "markdown",
   "metadata": {},
   "source": []
  },
  {
   "cell_type": "code",
   "execution_count": null,
   "metadata": {},
   "outputs": [],
   "source": []
  }
 ],
 "metadata": {
  "kernelspec": {
   "display_name": "Python 3 (ipykernel)",
   "language": "python",
   "name": "python3"
  },
  "language_info": {
   "codemirror_mode": {
    "name": "ipython",
    "version": 3
   },
   "file_extension": ".py",
   "mimetype": "text/x-python",
   "name": "python",
   "nbconvert_exporter": "python",
   "pygments_lexer": "ipython3",
   "version": "3.9.7"
  }
 },
 "nbformat": 4,
 "nbformat_minor": 4
}
